{
 "cells": [
  {
   "cell_type": "markdown",
   "id": "e345c6a7",
   "metadata": {},
   "source": [
    "**Travelling salesman or TSP problem**\n",
    "\n",
    "\"Given a list of cities and their distance between each other, what is the shortest route that visits each city ONCE before returning to the starting city (depot)?\"\n",
    "\n",
    "The TSP can be modeled as Integer Linear Program.\n",
    "Notable formulations: Miller–Tucker–Zemlin (MTZ), Dantzig–Fulkerson–Johnson (DFJ)."
   ]
  },
  {
   "cell_type": "markdown",
   "id": "6fb216dd",
   "metadata": {},
   "source": [
    "Import the libraries"
   ]
  },
  {
   "cell_type": "code",
   "execution_count": 1,
   "id": "d1990742",
   "metadata": {
    "execution": {
     "iopub.execute_input": "2021-10-26T15:16:47.976949Z",
     "iopub.status.busy": "2021-10-26T15:16:47.976447Z",
     "iopub.status.idle": "2021-10-26T15:16:48.657597Z",
     "shell.execute_reply": "2021-10-26T15:16:48.658011Z"
    }
   },
   "outputs": [],
   "source": [
    "import numpy as np\n",
    "import pandas as pd\n",
    "from matplotlib import pyplot as plt\n",
    "from pulp import *\n",
    "from scipy.spatial import distance_matrix"
   ]
  },
  {
   "cell_type": "markdown",
   "id": "53aedbda",
   "metadata": {},
   "source": [
    "Import example data"
   ]
  },
  {
   "cell_type": "code",
   "execution_count": 2,
   "id": "1d65d12e",
   "metadata": {
    "execution": {
     "iopub.execute_input": "2021-10-26T15:16:48.660566Z",
     "iopub.status.busy": "2021-10-26T15:16:48.660125Z",
     "iopub.status.idle": "2021-10-26T15:16:48.886255Z",
     "shell.execute_reply": "2021-10-26T15:16:48.886631Z"
    }
   },
   "outputs": [
    {
     "data": {
      "text/html": [
       "<div>\n",
       "<style scoped>\n",
       "    .dataframe tbody tr th:only-of-type {\n",
       "        vertical-align: middle;\n",
       "    }\n",
       "\n",
       "    .dataframe tbody tr th {\n",
       "        vertical-align: top;\n",
       "    }\n",
       "\n",
       "    .dataframe thead th {\n",
       "        text-align: right;\n",
       "    }\n",
       "</style>\n",
       "<table border=\"1\" class=\"dataframe\">\n",
       "  <thead>\n",
       "    <tr style=\"text-align: right;\">\n",
       "      <th></th>\n",
       "      <th>osmid</th>\n",
       "      <th>name</th>\n",
       "      <th>rank</th>\n",
       "      <th>x_poi</th>\n",
       "      <th>y_poi</th>\n",
       "      <th>LUN</th>\n",
       "      <th>MAR</th>\n",
       "      <th>MER</th>\n",
       "      <th>GIO</th>\n",
       "      <th>VEN</th>\n",
       "      <th>...</th>\n",
       "      <th>T17_00</th>\n",
       "      <th>T18_00</th>\n",
       "      <th>T19_00</th>\n",
       "      <th>T20_00</th>\n",
       "      <th>T21_00</th>\n",
       "      <th>T22_00</th>\n",
       "      <th>T23_00</th>\n",
       "      <th>GRID_ID</th>\n",
       "      <th>grid_x</th>\n",
       "      <th>grid_y</th>\n",
       "    </tr>\n",
       "  </thead>\n",
       "  <tbody>\n",
       "    <tr>\n",
       "      <th>0</th>\n",
       "      <td>597452722</td>\n",
       "      <td>Ambiente 4</td>\n",
       "      <td>0.100000</td>\n",
       "      <td>789548.4072</td>\n",
       "      <td>4.643460e+06</td>\n",
       "      <td>09:30-19:15</td>\n",
       "      <td>09:30-19:15</td>\n",
       "      <td>09:30-19:15</td>\n",
       "      <td>09:30-19:15</td>\n",
       "      <td>09:30-19:15</td>\n",
       "      <td>...</td>\n",
       "      <td>118</td>\n",
       "      <td>135</td>\n",
       "      <td>132</td>\n",
       "      <td>142</td>\n",
       "      <td>107</td>\n",
       "      <td>69</td>\n",
       "      <td>48</td>\n",
       "      <td>E-4</td>\n",
       "      <td>789485.8791</td>\n",
       "      <td>4.643502e+06</td>\n",
       "    </tr>\n",
       "    <tr>\n",
       "      <th>1</th>\n",
       "      <td>1835450</td>\n",
       "      <td>Ambiente 4</td>\n",
       "      <td>0.100000</td>\n",
       "      <td>789522.8022</td>\n",
       "      <td>4.643475e+06</td>\n",
       "      <td>09:30-19:15</td>\n",
       "      <td>09:30-19:15</td>\n",
       "      <td>09:30-19:15</td>\n",
       "      <td>09:30-19:15</td>\n",
       "      <td>09:30-19:15</td>\n",
       "      <td>...</td>\n",
       "      <td>118</td>\n",
       "      <td>135</td>\n",
       "      <td>132</td>\n",
       "      <td>142</td>\n",
       "      <td>107</td>\n",
       "      <td>69</td>\n",
       "      <td>48</td>\n",
       "      <td>E-4</td>\n",
       "      <td>789485.8791</td>\n",
       "      <td>4.643502e+06</td>\n",
       "    </tr>\n",
       "    <tr>\n",
       "      <th>2</th>\n",
       "      <td>1841077</td>\n",
       "      <td>Arco di Augusto</td>\n",
       "      <td>0.392381</td>\n",
       "      <td>789233.9026</td>\n",
       "      <td>4.643661e+06</td>\n",
       "      <td>00:00-23:59</td>\n",
       "      <td>00:00-23:59</td>\n",
       "      <td>00:00-23:59</td>\n",
       "      <td>00:00-23:59</td>\n",
       "      <td>00:00-23:59</td>\n",
       "      <td>...</td>\n",
       "      <td>238</td>\n",
       "      <td>243</td>\n",
       "      <td>198</td>\n",
       "      <td>163</td>\n",
       "      <td>112</td>\n",
       "      <td>77</td>\n",
       "      <td>58</td>\n",
       "      <td>D-3</td>\n",
       "      <td>789163.5082</td>\n",
       "      <td>4.643689e+06</td>\n",
       "    </tr>\n",
       "  </tbody>\n",
       "</table>\n",
       "<p>3 rows × 39 columns</p>\n",
       "</div>"
      ],
      "text/plain": [
       "       osmid             name      rank        x_poi         y_poi  \\\n",
       "0  597452722       Ambiente 4  0.100000  789548.4072  4.643460e+06   \n",
       "1    1835450       Ambiente 4  0.100000  789522.8022  4.643475e+06   \n",
       "2    1841077  Arco di Augusto  0.392381  789233.9026  4.643661e+06   \n",
       "\n",
       "           LUN          MAR          MER          GIO          VEN  ...  \\\n",
       "0  09:30-19:15  09:30-19:15  09:30-19:15  09:30-19:15  09:30-19:15  ...   \n",
       "1  09:30-19:15  09:30-19:15  09:30-19:15  09:30-19:15  09:30-19:15  ...   \n",
       "2  00:00-23:59  00:00-23:59  00:00-23:59  00:00-23:59  00:00-23:59  ...   \n",
       "\n",
       "  T17_00 T18_00  T19_00  T20_00  T21_00  T22_00  T23_00  GRID_ID       grid_x  \\\n",
       "0    118    135     132     142     107      69      48      E-4  789485.8791   \n",
       "1    118    135     132     142     107      69      48      E-4  789485.8791   \n",
       "2    238    243     198     163     112      77      58      D-3  789163.5082   \n",
       "\n",
       "         grid_y  \n",
       "0  4.643502e+06  \n",
       "1  4.643502e+06  \n",
       "2  4.643689e+06  \n",
       "\n",
       "[3 rows x 39 columns]"
      ]
     },
     "execution_count": 2,
     "metadata": {},
     "output_type": "execute_result"
    }
   ],
   "source": [
    "data = pd.read_excel(\"data/tsp_data.xlsx\")\n",
    "data.head(3)"
   ]
  },
  {
   "cell_type": "markdown",
   "id": "6a41c641",
   "metadata": {},
   "source": [
    "Getting x, y cooordinates of the points (x_poi and y_poi)"
   ]
  },
  {
   "cell_type": "code",
   "execution_count": 3,
   "id": "0819524f",
   "metadata": {
    "execution": {
     "iopub.execute_input": "2021-10-26T15:16:48.894495Z",
     "iopub.status.busy": "2021-10-26T15:16:48.894045Z",
     "iopub.status.idle": "2021-10-26T15:16:48.897972Z",
     "shell.execute_reply": "2021-10-26T15:16:48.897280Z"
    }
   },
   "outputs": [
    {
     "name": "stdout",
     "output_type": "stream",
     "text": [
      "\n",
      "Distance matrix:\n",
      " [[9999.          454.45549987  316.86212114  345.8498725   153.69846333\n",
      "   440.89613773  115.69931559  239.94561713  164.96636301  322.19286362]\n",
      " [ 454.45549987 9999.          144.11931914  224.82407798  318.86029706\n",
      "    88.25270853  551.52912054  387.36092865  612.25087165  333.17400109]]\n"
     ]
    }
   ],
   "source": [
    "# set a random number of points to analyze\n",
    "# don't use large numbers or PuLP is gonna fail\n",
    "N = 10\n",
    "\n",
    "# define points interator once\n",
    "points_iter = range(N)\n",
    "\n",
    "# select random data to analyze from the df\n",
    "coord = data[[\"x_poi\", \"y_poi\"]].sample(n=N)\n",
    "coord.columns = [\"x\", \"y\"]\n",
    "coord.reset_index(inplace=True, drop=True)\n",
    "\n",
    "# calculate the distance matrix\n",
    "dist_mat = distance_matrix(coord.values, coord.values)\n",
    "np.fill_diagonal(dist_mat, 9999)\n",
    "print(\"\\nDistance matrix:\\n\", dist_mat[:2])"
   ]
  },
  {
   "cell_type": "markdown",
   "id": "f80c2360",
   "metadata": {},
   "source": [
    "Visualizing the points"
   ]
  },
  {
   "cell_type": "code",
   "execution_count": 4,
   "id": "debb6a18",
   "metadata": {
    "execution": {
     "iopub.execute_input": "2021-10-26T15:16:48.917701Z",
     "iopub.status.busy": "2021-10-26T15:16:48.913978Z",
     "iopub.status.idle": "2021-10-26T15:16:49.126084Z",
     "shell.execute_reply": "2021-10-26T15:16:49.125337Z"
    }
   },
   "outputs": [
    {
     "data": {
      "image/png": "[encoded data removed]",
      "text/plain": [
       "<Figure size 432x360 with 1 Axes>"
      ]
     },
     "metadata": {
      "needs_background": "light"
     },
     "output_type": "display_data"
    }
   ],
   "source": [
    "fig, ax = plt.subplots(figsize=(6, 5))\n",
    "\n",
    "# plot data using scatter plot\n",
    "ax.scatter(coord[\"x\"], coord[\"y\"], color=\"k\")\n",
    "\n",
    "# Circle the starting point\n",
    "ax.scatter(coord[\"x\"][0], coord[\"y\"][0], s=250, \n",
    "           c=np.array([[0,0,0,0]]), edgecolors=\"deeppink\")\n",
    "\n",
    "# annotate points\n",
    "offset = 10\n",
    "for i, (x, y) in enumerate(zip(coord[\"x\"], coord[\"y\"])):\n",
    "      text = \"starting point\"\n",
    "      if i != 0:\n",
    "            offset = 5\n",
    "            text = f\"city {i}\"\n",
    "      ax.text(x=x, y=y+offset, s=text, va=\"bottom\", ha=\"center\")\n",
    "\n",
    "# disable offset and scientific notation of the axis\n",
    "ax.ticklabel_format(useOffset=False, style=\"plain\")\n",
    "\n",
    "# set titles\n",
    "ax.set_title(\"Problem visualization\")\n",
    "ax.set_xlabel(\"X\")\n",
    "ax.set_ylabel(\"Y\")\n",
    "\n",
    "fig.tight_layout()\n",
    "plt.show()"
   ]
  },
  {
   "cell_type": "markdown",
   "id": "1f9cec94",
   "metadata": {},
   "source": [
    "The LP model is explained as follows:\n",
    "\n",
    "- N = Number of location including depot\n",
    "- $C_{i,j}$ = edge cost from node i to node j, where $i,j= [1…N]$\n",
    "- Decision variable: $X_{i,j} = 1$, if solution has direct path from node i to j, otherwise 0 ($X_{i,i} = 0$)"
   ]
  },
  {
   "cell_type": "markdown",
   "id": "b257cd9e",
   "metadata": {},
   "source": [
    "The objective is to minimize the route. Constraints (2) and (3) ensures that there is only one outflow and inflow edge for each node, respectively. Constraint (4) restricts outflow to one’s own node (i.e. each node is visited only once).\n",
    "\n",
    "- (1) MIN $C_{i,j}X_{i,j}$, where $C_{i,j}$ is the distances matrix (<-- objective)\n",
    "- (2) $\\sum X_{i,j} = 1$ (j=1 to N), $i=1...N$\n",
    "- (3) $\\sum X_{i,j} = 1$ (i=1 to N), $J=1...N$\n",
    "- (4) $X_{i,i} = 0, i=1...N$\n",
    "\n",
    "To eliminate subtours, continuous decision variables representing times at which a location is visited is added.\n",
    "\n",
    "Continuous variable for all locations except the start node is added.\n",
    "\n",
    "$Uj > Ui$, if $X_{i,j} = 1$\n",
    "\n",
    "i.e.\n",
    "\n",
    "$Uj >= Ui - B(1 - X_{i,j})$ for some large value of B\n",
    "\n",
    "This formulation was proposed by Miller–Tucker–Zemlin (MTZ)."
   ]
  },
  {
   "cell_type": "markdown",
   "id": "91a764cd",
   "metadata": {},
   "source": [
    "Definition of the problem in PuLP\n",
    "\n",
    "PuLP library is used for implementing MILP model in python.\n",
    "\n",
    "https://pypi.org/project/PuLP/\n",
    "\n",
    "PuLP is an LP modeler written in Python. PuLP can generate MPS or LP files and call GLPK, COIN-OR CLP/CBC, CPLEX, GUROBI, MOSEK, XPRESS, CHOCO, MIPCL, SCIP to solve linear problems."
   ]
  },
  {
   "cell_type": "code",
   "execution_count": 5,
   "id": "e2337e4d",
   "metadata": {},
   "outputs": [
    {
     "name": "stdout",
     "output_type": "stream",
     "text": [
      "1 Optimal 1759.1640489546153\n"
     ]
    }
   ],
   "source": [
    "# it is a minimization problem\n",
    "problem = LpProblem(\"MTZ\", LpMinimize)\n",
    "\n",
    "# define X variable \n",
    "X = LpVariable.dicts(\"X\",((i,j) for i in points_iter for j in points_iter), cat=\"Binary\")\n",
    "\n",
    "# define U continuous variable for subtour elimination\n",
    "U = LpVariable.dicts(\"U\", (i for i in points_iter), lowBound=1, upBound=N, cat = \"Integer\")\n",
    "\n",
    "problem += lpSum(dist_mat[i][j] * X[i,j] for i in points_iter for j in points_iter)\n",
    "\n",
    "for i in points_iter:\n",
    "    # since we are iterating over i iterate over j\n",
    "    problem += lpSum(X[i,j] for j in points_iter) == 1  #(1)\n",
    "    problem += lpSum(X[j,i] for j in points_iter) == 1  #(2)\n",
    "\n",
    "    # restrict outflow to one’s own node\n",
    "    problem += X[i,i] == 0  #(4)\n",
    "\n",
    "    # eliminate subtours\n",
    "    for j in points_iter:\n",
    "        if i != j and (i != 0 and j != 0):\n",
    "            problem += U[i] - U[j] + N * X[i,j] <= N - 1\n",
    "\n",
    "status = problem.solve()\n",
    "print(status, LpStatus[status], pulp.value(problem.objective))"
   ]
  },
  {
   "cell_type": "markdown",
   "id": "ccfadc08",
   "metadata": {},
   "source": [
    "Getting the resulting nodes and visualize the problem"
   ]
  },
  {
   "cell_type": "code",
   "execution_count": 6,
   "id": "24c62945",
   "metadata": {
    "execution": {
     "iopub.execute_input": "2021-10-26T15:18:56.968386Z",
     "iopub.status.busy": "2021-10-26T15:18:56.967375Z",
     "iopub.status.idle": "2021-10-26T15:18:56.968974Z",
     "shell.execute_reply": "2021-10-26T15:18:56.969342Z"
    }
   },
   "outputs": [],
   "source": [
    "route = [(i,j) for i in points_iter for j in points_iter if pulp.value(X[i,j]) == 1]"
   ]
  },
  {
   "cell_type": "code",
   "execution_count": 7,
   "id": "bf6a7f95",
   "metadata": {
    "execution": {
     "iopub.execute_input": "2021-10-26T15:18:56.987785Z",
     "iopub.status.busy": "2021-10-26T15:18:56.986632Z",
     "iopub.status.idle": "2021-10-26T15:18:57.541840Z",
     "shell.execute_reply": "2021-10-26T15:18:57.541424Z"
    }
   },
   "outputs": [
    {
     "data": {
      "image/png": "[encoded data removed]",
      "text/plain": [
       "<Figure size 432x360 with 1 Axes>"
      ]
     },
     "metadata": {
      "needs_background": "light"
     },
     "output_type": "display_data"
    }
   ],
   "source": [
    "fig, ax = plt.subplots(figsize=(6, 5))\n",
    "\n",
    "# plot data using scatter plot\n",
    "ax.scatter(coord[\"x\"], coord[\"y\"], color=\"k\")\n",
    "\n",
    "# Circle the starting point\n",
    "ax.scatter(coord[\"x\"][0], coord[\"y\"][0], s=250, \n",
    "           c=np.array([[0,0,0,0]]), edgecolors=\"deeppink\")\n",
    "\n",
    "# annotate points\n",
    "offset = 10\n",
    "for i, (x, y) in enumerate(zip(coord[\"x\"], coord[\"y\"])):\n",
    "      text = \"starting point\"\n",
    "      if i != 0:\n",
    "            offset = 5\n",
    "            text = f\"city {i}\"\n",
    "      ax.text(x=x, y=y+offset, s=text, va=\"bottom\", ha=\"center\", color=\"k\", alpha=0.50)\n",
    "\n",
    "# show the route\n",
    "arrowprops = dict(arrowstyle=\"-|>\", connectionstyle=\"arc3,rad=-0.05\",\n",
    "                  shrinkA=7.5, shrinkB=7.5, linewidth=1.5, color=\"royalblue\")\n",
    "for i, j in route:\n",
    "    ax.annotate(\"\",\n",
    "                xy=[coord.iloc[j][\"x\"],\n",
    "                coord.iloc[j][\"y\"]],\n",
    "                xytext=[coord.iloc[i][\"x\"],\n",
    "                coord.iloc[i][\"y\"]],\n",
    "                arrowprops=arrowprops,\n",
    "                zorder=5)\n",
    "\n",
    "# disable offset and scientific notation of the axis\n",
    "ax.ticklabel_format(useOffset=False, style=\"plain\")\n",
    "\n",
    "# set titles\n",
    "ax.set_title(\"Problem visualization\")\n",
    "ax.set_xlabel(\"X\")\n",
    "ax.set_ylabel(\"Y\")\n",
    "\n",
    "fig.tight_layout()\n",
    "plt.show()"
   ]
  },
  {
   "cell_type": "code",
   "execution_count": null,
   "id": "757947aa",
   "metadata": {},
   "outputs": [],
   "source": []
  }
 ],
 "metadata": {
  "interpreter": {
   "hash": "04635d289a519a1410467dd0afb0db42f9184808881ca68b2eb5a687a20a5a94"
  },
  "kernelspec": {
   "display_name": "Python 3.7.9 64-bit",
   "name": "python3"
  },
  "language_info": {
   "codemirror_mode": {
    "name": "ipython",
    "version": 3
   },
   "file_extension": ".py",
   "mimetype": "text/x-python",
   "name": "python",
   "nbconvert_exporter": "python",
   "pygments_lexer": "ipython3",
   "version": "3.7.9"
  }
 },
 "nbformat": 4,
 "nbformat_minor": 5
}
