{
 "cells": [
  {
   "cell_type": "markdown",
   "metadata": {},
   "source": [
    "#### **Data collection and analysis of bioactivity data from the ChEMBL database**\n",
    "\n",
    "Inspired by: youtube.com/c/DataProfessor"
   ]
  },
  {
   "cell_type": "code",
   "execution_count": 1,
   "metadata": {},
   "outputs": [],
   "source": [
    "import matplotlib.pyplot as plt\n",
    "import numpy as np\n",
    "import pandas as pd\n",
    "from chembl_webresource_client.new_client import new_client\n",
    "from rdkit import Chem\n",
    "from rdkit.Chem import Descriptors"
   ]
  },
  {
   "cell_type": "markdown",
   "metadata": {},
   "source": [
    "**See available data entities**"
   ]
  },
  {
   "cell_type": "code",
   "execution_count": 2,
   "metadata": {},
   "outputs": [
    {
     "name": "stdout",
     "output_type": "stream",
     "text": [
      "['activity', 'activity_supplementary_data_by_activity', 'assay', 'assay_class', 'atc_class', 'binding_site', 'biotherapeutic', 'cell_line', 'chembl_id_lookup', 'compound_record', 'compound_structural_alert', 'description', 'document', 'document_similarity', 'drug', 'drug_indication', 'drug_warning', 'go_slim', 'image', 'mechanism', 'metabolism', 'molecule', 'molecule_form', 'official', 'organism', 'protein_class', 'similarity', 'source', 'substructure', 'target', 'target_component', 'target_relation', 'tissue', 'xref_source']\n"
     ]
    }
   ],
   "source": [
    "available_resources = [resource for resource in dir(new_client) if not resource.startswith(\"_\")]\n",
    "print(available_resources)"
   ]
  },
  {
   "cell_type": "code",
   "execution_count": 3,
   "metadata": {},
   "outputs": [
    {
     "data": {
      "text/html": [
       "<div>\n",
       "<style scoped>\n",
       "    .dataframe tbody tr th:only-of-type {\n",
       "        vertical-align: middle;\n",
       "    }\n",
       "\n",
       "    .dataframe tbody tr th {\n",
       "        vertical-align: top;\n",
       "    }\n",
       "\n",
       "    .dataframe thead th {\n",
       "        text-align: right;\n",
       "    }\n",
       "</style>\n",
       "<table border=\"1\" class=\"dataframe\">\n",
       "  <thead>\n",
       "    <tr style=\"text-align: right;\">\n",
       "      <th></th>\n",
       "      <th>cross_references</th>\n",
       "      <th>organism</th>\n",
       "      <th>pref_name</th>\n",
       "      <th>score</th>\n",
       "      <th>species_group_flag</th>\n",
       "      <th>target_chembl_id</th>\n",
       "      <th>target_components</th>\n",
       "      <th>target_type</th>\n",
       "      <th>tax_id</th>\n",
       "    </tr>\n",
       "  </thead>\n",
       "  <tbody>\n",
       "    <tr>\n",
       "      <th>0</th>\n",
       "      <td>[{'xref_id': 'Q12809', 'xref_name': None, 'xre...</td>\n",
       "      <td>Homo sapiens</td>\n",
       "      <td>HERG</td>\n",
       "      <td>19.0</td>\n",
       "      <td>False</td>\n",
       "      <td>CHEMBL240</td>\n",
       "      <td>[{'accession': 'Q12809', 'component_descriptio...</td>\n",
       "      <td>SINGLE PROTEIN</td>\n",
       "      <td>9606</td>\n",
       "    </tr>\n",
       "    <tr>\n",
       "      <th>1</th>\n",
       "      <td>[]</td>\n",
       "      <td>Homo sapiens</td>\n",
       "      <td>Melanin-concentrating hormone receptor 2/HERG</td>\n",
       "      <td>11.0</td>\n",
       "      <td>False</td>\n",
       "      <td>CHEMBL4106188</td>\n",
       "      <td>[{'accession': 'Q12809', 'component_descriptio...</td>\n",
       "      <td>SELECTIVITY GROUP</td>\n",
       "      <td>9606</td>\n",
       "    </tr>\n",
       "    <tr>\n",
       "      <th>2</th>\n",
       "      <td>[]</td>\n",
       "      <td>Homo sapiens</td>\n",
       "      <td>Voltage-gated potassium channel</td>\n",
       "      <td>2.0</td>\n",
       "      <td>False</td>\n",
       "      <td>CHEMBL2362996</td>\n",
       "      <td>[{'accession': 'P51787', 'component_descriptio...</td>\n",
       "      <td>PROTEIN FAMILY</td>\n",
       "      <td>9606</td>\n",
       "    </tr>\n",
       "  </tbody>\n",
       "</table>\n",
       "</div>"
      ],
      "text/plain": [
       "                                    cross_references      organism  \\\n",
       "0  [{'xref_id': 'Q12809', 'xref_name': None, 'xre...  Homo sapiens   \n",
       "1                                                 []  Homo sapiens   \n",
       "2                                                 []  Homo sapiens   \n",
       "\n",
       "                                       pref_name  score  species_group_flag  \\\n",
       "0                                           HERG   19.0               False   \n",
       "1  Melanin-concentrating hormone receptor 2/HERG   11.0               False   \n",
       "2                Voltage-gated potassium channel    2.0               False   \n",
       "\n",
       "  target_chembl_id                                  target_components  \\\n",
       "0        CHEMBL240  [{'accession': 'Q12809', 'component_descriptio...   \n",
       "1    CHEMBL4106188  [{'accession': 'Q12809', 'component_descriptio...   \n",
       "2    CHEMBL2362996  [{'accession': 'P51787', 'component_descriptio...   \n",
       "\n",
       "         target_type  tax_id  \n",
       "0     SINGLE PROTEIN    9606  \n",
       "1  SELECTIVITY GROUP    9606  \n",
       "2     PROTEIN FAMILY    9606  "
      ]
     },
     "execution_count": 3,
     "metadata": {},
     "output_type": "execute_result"
    }
   ],
   "source": [
    "# Target search for hERG\n",
    "target = new_client.target\n",
    "target_query = target.search(\"herg\")\n",
    "targets = pd.DataFrame.from_dict(target_query)\n",
    "targets"
   ]
  },
  {
   "cell_type": "markdown",
   "metadata": {},
   "source": [
    "**Retrieve bioactivity data (IC50) for hERG that are reported as pChEMBL values**"
   ]
  },
  {
   "cell_type": "code",
   "execution_count": 5,
   "metadata": {},
   "outputs": [
    {
     "data": {
      "text/html": [
       "<div>\n",
       "<style scoped>\n",
       "    .dataframe tbody tr th:only-of-type {\n",
       "        vertical-align: middle;\n",
       "    }\n",
       "\n",
       "    .dataframe tbody tr th {\n",
       "        vertical-align: top;\n",
       "    }\n",
       "\n",
       "    .dataframe thead th {\n",
       "        text-align: right;\n",
       "    }\n",
       "</style>\n",
       "<table border=\"1\" class=\"dataframe\">\n",
       "  <thead>\n",
       "    <tr style=\"text-align: right;\">\n",
       "      <th></th>\n",
       "      <th>activity_comment</th>\n",
       "      <th>activity_id</th>\n",
       "      <th>activity_properties</th>\n",
       "      <th>assay_chembl_id</th>\n",
       "      <th>assay_description</th>\n",
       "      <th>assay_type</th>\n",
       "      <th>assay_variant_accession</th>\n",
       "      <th>assay_variant_mutation</th>\n",
       "      <th>bao_endpoint</th>\n",
       "      <th>bao_format</th>\n",
       "      <th>...</th>\n",
       "      <th>target_organism</th>\n",
       "      <th>target_pref_name</th>\n",
       "      <th>target_tax_id</th>\n",
       "      <th>text_value</th>\n",
       "      <th>toid</th>\n",
       "      <th>type</th>\n",
       "      <th>units</th>\n",
       "      <th>uo_units</th>\n",
       "      <th>upper_value</th>\n",
       "      <th>value</th>\n",
       "    </tr>\n",
       "  </thead>\n",
       "  <tbody>\n",
       "    <tr>\n",
       "      <th>0</th>\n",
       "      <td>None</td>\n",
       "      <td>305156</td>\n",
       "      <td>[]</td>\n",
       "      <td>CHEMBL841079</td>\n",
       "      <td>Inhibition of hERG currents Kv11.1</td>\n",
       "      <td>T</td>\n",
       "      <td>None</td>\n",
       "      <td>None</td>\n",
       "      <td>BAO_0000190</td>\n",
       "      <td>BAO_0000019</td>\n",
       "      <td>...</td>\n",
       "      <td>Homo sapiens</td>\n",
       "      <td>HERG</td>\n",
       "      <td>9606</td>\n",
       "      <td>None</td>\n",
       "      <td>None</td>\n",
       "      <td>IC50</td>\n",
       "      <td>nM</td>\n",
       "      <td>UO_0000065</td>\n",
       "      <td>None</td>\n",
       "      <td>14.0</td>\n",
       "    </tr>\n",
       "    <tr>\n",
       "      <th>2</th>\n",
       "      <td>None</td>\n",
       "      <td>305244</td>\n",
       "      <td>[]</td>\n",
       "      <td>CHEMBL691014</td>\n",
       "      <td>K+ channel blocking activity in human embryoni...</td>\n",
       "      <td>F</td>\n",
       "      <td>None</td>\n",
       "      <td>None</td>\n",
       "      <td>BAO_0000190</td>\n",
       "      <td>BAO_0000219</td>\n",
       "      <td>...</td>\n",
       "      <td>Homo sapiens</td>\n",
       "      <td>HERG</td>\n",
       "      <td>9606</td>\n",
       "      <td>None</td>\n",
       "      <td>None</td>\n",
       "      <td>IC50</td>\n",
       "      <td>nM</td>\n",
       "      <td>UO_0000065</td>\n",
       "      <td>None</td>\n",
       "      <td>32.2</td>\n",
       "    </tr>\n",
       "    <tr>\n",
       "      <th>3</th>\n",
       "      <td>None</td>\n",
       "      <td>305245</td>\n",
       "      <td>[]</td>\n",
       "      <td>CHEMBL691013</td>\n",
       "      <td>K+ channel blocking activity in human embryoni...</td>\n",
       "      <td>F</td>\n",
       "      <td>None</td>\n",
       "      <td>None</td>\n",
       "      <td>BAO_0000190</td>\n",
       "      <td>BAO_0000219</td>\n",
       "      <td>...</td>\n",
       "      <td>Homo sapiens</td>\n",
       "      <td>HERG</td>\n",
       "      <td>9606</td>\n",
       "      <td>None</td>\n",
       "      <td>None</td>\n",
       "      <td>IC50</td>\n",
       "      <td>nM</td>\n",
       "      <td>UO_0000065</td>\n",
       "      <td>None</td>\n",
       "      <td>5950.0</td>\n",
       "    </tr>\n",
       "  </tbody>\n",
       "</table>\n",
       "<p>3 rows × 45 columns</p>\n",
       "</div>"
      ],
      "text/plain": [
       "  activity_comment  activity_id activity_properties assay_chembl_id  \\\n",
       "0             None       305156                  []    CHEMBL841079   \n",
       "2             None       305244                  []    CHEMBL691014   \n",
       "3             None       305245                  []    CHEMBL691013   \n",
       "\n",
       "                                   assay_description assay_type  \\\n",
       "0                 Inhibition of hERG currents Kv11.1          T   \n",
       "2  K+ channel blocking activity in human embryoni...          F   \n",
       "3  K+ channel blocking activity in human embryoni...          F   \n",
       "\n",
       "  assay_variant_accession assay_variant_mutation bao_endpoint   bao_format  \\\n",
       "0                    None                   None  BAO_0000190  BAO_0000019   \n",
       "2                    None                   None  BAO_0000190  BAO_0000219   \n",
       "3                    None                   None  BAO_0000190  BAO_0000219   \n",
       "\n",
       "   ... target_organism target_pref_name target_tax_id text_value  toid  type  \\\n",
       "0  ...    Homo sapiens             HERG          9606       None  None  IC50   \n",
       "2  ...    Homo sapiens             HERG          9606       None  None  IC50   \n",
       "3  ...    Homo sapiens             HERG          9606       None  None  IC50   \n",
       "\n",
       "   units    uo_units upper_value   value  \n",
       "0     nM  UO_0000065        None    14.0  \n",
       "2     nM  UO_0000065        None    32.2  \n",
       "3     nM  UO_0000065        None  5950.0  \n",
       "\n",
       "[3 rows x 45 columns]"
      ]
     },
     "execution_count": 5,
     "metadata": {},
     "output_type": "execute_result"
    }
   ],
   "source": [
    "selected_target = targets[\"target_chembl_id\"][0]\n",
    "print(\"Selected target is:\", selected_target)\n",
    "\n",
    "activity = new_client.activity\n",
    "res = activity.filter(target_chembl_id=selected_target).filter(standard_type=\"IC50\")\n",
    "compounds_n=2500\n",
    "df = pd.DataFrame.from_dict(res[:compounds_n])\n",
    "\n",
    "# drop compounds missing value for the standard_value and canonical_smiles columns\n",
    "df.dropna(subset=[\"standard_value\", \"canonical_smiles\"], inplace=True)\n",
    "\n",
    "# drop duplicates\n",
    "df.drop_duplicates(subset=[\"canonical_smiles\"], inplace=True)\n",
    "\n",
    "df.head(3)"
   ]
  },
  {
   "cell_type": "markdown",
   "metadata": {},
   "source": [
    "**Select a subset of the dataframe**"
   ]
  },
  {
   "cell_type": "code",
   "execution_count": 7,
   "metadata": {},
   "outputs": [
    {
     "data": {
      "text/html": [
       "<div>\n",
       "<style scoped>\n",
       "    .dataframe tbody tr th:only-of-type {\n",
       "        vertical-align: middle;\n",
       "    }\n",
       "\n",
       "    .dataframe tbody tr th {\n",
       "        vertical-align: top;\n",
       "    }\n",
       "\n",
       "    .dataframe thead th {\n",
       "        text-align: right;\n",
       "    }\n",
       "</style>\n",
       "<table border=\"1\" class=\"dataframe\">\n",
       "  <thead>\n",
       "    <tr style=\"text-align: right;\">\n",
       "      <th></th>\n",
       "      <th>standard_value</th>\n",
       "      <th>canonical_smiles</th>\n",
       "      <th>molecule_chembl_id</th>\n",
       "    </tr>\n",
       "  </thead>\n",
       "  <tbody>\n",
       "    <tr>\n",
       "      <th>0</th>\n",
       "      <td>14.0</td>\n",
       "      <td>O=C1NCCN1CCN1CCC(c2cn(-c3ccc(F)cc3)c3ccc(Cl)cc...</td>\n",
       "      <td>CHEMBL12713</td>\n",
       "    </tr>\n",
       "    <tr>\n",
       "      <th>2</th>\n",
       "      <td>32.2</td>\n",
       "      <td>O=C(CCCN1CC=C(n2c(=O)[nH]c3ccccc32)CC1)c1ccc(F...</td>\n",
       "      <td>CHEMBL1108</td>\n",
       "    </tr>\n",
       "    <tr>\n",
       "      <th>3</th>\n",
       "      <td>5950.0</td>\n",
       "      <td>O=C(O[C@@H]1C[C@@H]2C[C@H]3C[C@H](C1)N2CC3=O)c...</td>\n",
       "      <td>CHEMBL2368925</td>\n",
       "    </tr>\n",
       "  </tbody>\n",
       "</table>\n",
       "</div>"
      ],
      "text/plain": [
       "   standard_value                                   canonical_smiles  \\\n",
       "0            14.0  O=C1NCCN1CCN1CCC(c2cn(-c3ccc(F)cc3)c3ccc(Cl)cc...   \n",
       "2            32.2  O=C(CCCN1CC=C(n2c(=O)[nH]c3ccccc32)CC1)c1ccc(F...   \n",
       "3          5950.0  O=C(O[C@@H]1C[C@@H]2C[C@H]3C[C@H](C1)N2CC3=O)c...   \n",
       "\n",
       "  molecule_chembl_id  \n",
       "0        CHEMBL12713  \n",
       "2         CHEMBL1108  \n",
       "3      CHEMBL2368925  "
      ]
     },
     "execution_count": 7,
     "metadata": {},
     "output_type": "execute_result"
    }
   ],
   "source": [
    "selection = [\"standard_value\", \"canonical_smiles\", \"molecule_chembl_id\"]\n",
    "df_ = df.copy()[selection]\n",
    "\n",
    "# convert standard value to float\n",
    "df_[\"standard_value\"] = df_[\"standard_value\"].astype(np.float64)\n",
    "\n",
    "df_.head(3)"
   ]
  },
  {
   "cell_type": "markdown",
   "metadata": {},
   "source": [
    "Labeling compounds as either being active, inactive or intermediate\n",
    "\n",
    "The bioactivity data is in the IC50 unit. Compounds having values of less than 1000 nM will be considered to be active while those greater than 10,000 nM will be considered to be inactive. As for those values in between 1,000 and 10,000 nM will be referred to as intermediate."
   ]
  },
  {
   "cell_type": "code",
   "execution_count": 8,
   "metadata": {},
   "outputs": [
    {
     "data": {
      "text/html": [
       "<div>\n",
       "<style scoped>\n",
       "    .dataframe tbody tr th:only-of-type {\n",
       "        vertical-align: middle;\n",
       "    }\n",
       "\n",
       "    .dataframe tbody tr th {\n",
       "        vertical-align: top;\n",
       "    }\n",
       "\n",
       "    .dataframe thead th {\n",
       "        text-align: right;\n",
       "    }\n",
       "</style>\n",
       "<table border=\"1\" class=\"dataframe\">\n",
       "  <thead>\n",
       "    <tr style=\"text-align: right;\">\n",
       "      <th></th>\n",
       "      <th>molecule_chembl_id</th>\n",
       "      <th>standard_value</th>\n",
       "      <th>Activity class</th>\n",
       "    </tr>\n",
       "  </thead>\n",
       "  <tbody>\n",
       "    <tr>\n",
       "      <th>0</th>\n",
       "      <td>CHEMBL12713</td>\n",
       "      <td>14.0</td>\n",
       "      <td>Active</td>\n",
       "    </tr>\n",
       "    <tr>\n",
       "      <th>2</th>\n",
       "      <td>CHEMBL1108</td>\n",
       "      <td>32.2</td>\n",
       "      <td>Active</td>\n",
       "    </tr>\n",
       "    <tr>\n",
       "      <th>3</th>\n",
       "      <td>CHEMBL2368925</td>\n",
       "      <td>5950.0</td>\n",
       "      <td>Intermediate</td>\n",
       "    </tr>\n",
       "    <tr>\n",
       "      <th>4</th>\n",
       "      <td>CHEMBL6966</td>\n",
       "      <td>143.0</td>\n",
       "      <td>Active</td>\n",
       "    </tr>\n",
       "    <tr>\n",
       "      <th>5</th>\n",
       "      <td>CHEMBL1107</td>\n",
       "      <td>196.0</td>\n",
       "      <td>Active</td>\n",
       "    </tr>\n",
       "  </tbody>\n",
       "</table>\n",
       "</div>"
      ],
      "text/plain": [
       "  molecule_chembl_id  standard_value Activity class\n",
       "0        CHEMBL12713            14.0         Active\n",
       "2         CHEMBL1108            32.2         Active\n",
       "3      CHEMBL2368925          5950.0   Intermediate\n",
       "4         CHEMBL6966           143.0         Active\n",
       "5         CHEMBL1107           196.0         Active"
      ]
     },
     "execution_count": 8,
     "metadata": {},
     "output_type": "execute_result"
    }
   ],
   "source": [
    "conditions = [\n",
    "      df_[\"standard_value\"] < 1000,\n",
    "      (df_[\"standard_value\"] >= 1000) & (df_[\"standard_value\"] < 10000),\n",
    "      df_[\"standard_value\"] >= 10000\n",
    "      ]\n",
    "values = [\"Active\", \"Intermediate\", \"Inactive\"]\n",
    "\n",
    "df_[\"Activity class\"] = np.select(conditions, values)\n",
    "df_[[\"molecule_chembl_id\", \"standard_value\", \"Activity class\"]].head()"
   ]
  },
  {
   "cell_type": "markdown",
   "metadata": {},
   "source": [
    "**Calculate Lipinski descriptors**"
   ]
  },
  {
   "cell_type": "markdown",
   "metadata": {},
   "source": [
    "Lipinski descriptors are a set of rule-of-thumb for evaluating the druglikeness of compounds based on the Absorption, Distribution, Metabolism and Excretion (ADME) that is also known as the pharmacokinetic profile.\n",
    "\n",
    "The Lipinski's Rule (or Rule-of-Five) stated the following:\n",
    "\n",
    "- Molecular weight < 500 Dalton\n",
    "- Octanol-water partition coefficient (LogP) < 5\n",
    "- Hydrogen bond donors < 5\n",
    "- Hydrogen bond acceptors < 10\n",
    "\n",
    "Note: all numbers are multiples of 5"
   ]
  },
  {
   "cell_type": "code",
   "execution_count": 9,
   "metadata": {},
   "outputs": [
    {
     "data": {
      "text/html": [
       "<div>\n",
       "<style scoped>\n",
       "    .dataframe tbody tr th:only-of-type {\n",
       "        vertical-align: middle;\n",
       "    }\n",
       "\n",
       "    .dataframe tbody tr th {\n",
       "        vertical-align: top;\n",
       "    }\n",
       "\n",
       "    .dataframe thead th {\n",
       "        text-align: right;\n",
       "    }\n",
       "</style>\n",
       "<table border=\"1\" class=\"dataframe\">\n",
       "  <thead>\n",
       "    <tr style=\"text-align: right;\">\n",
       "      <th></th>\n",
       "      <th>molecule_chembl_id</th>\n",
       "      <th>Molecular weight</th>\n",
       "      <th>logP</th>\n",
       "      <th>H donors</th>\n",
       "      <th>H acceptors</th>\n",
       "    </tr>\n",
       "  </thead>\n",
       "  <tbody>\n",
       "    <tr>\n",
       "      <th>0</th>\n",
       "      <td>CHEMBL12713</td>\n",
       "      <td>440.950</td>\n",
       "      <td>4.6276</td>\n",
       "      <td>1</td>\n",
       "      <td>3</td>\n",
       "    </tr>\n",
       "    <tr>\n",
       "      <th>2</th>\n",
       "      <td>CHEMBL1108</td>\n",
       "      <td>379.435</td>\n",
       "      <td>3.6784</td>\n",
       "      <td>1</td>\n",
       "      <td>4</td>\n",
       "    </tr>\n",
       "    <tr>\n",
       "      <th>3</th>\n",
       "      <td>CHEMBL2368925</td>\n",
       "      <td>324.380</td>\n",
       "      <td>2.5190</td>\n",
       "      <td>1</td>\n",
       "      <td>4</td>\n",
       "    </tr>\n",
       "  </tbody>\n",
       "</table>\n",
       "</div>"
      ],
      "text/plain": [
       "  molecule_chembl_id  Molecular weight    logP  H donors  H acceptors\n",
       "0        CHEMBL12713           440.950  4.6276         1            3\n",
       "2         CHEMBL1108           379.435  3.6784         1            4\n",
       "3      CHEMBL2368925           324.380  2.5190         1            4"
      ]
     },
     "execution_count": 9,
     "metadata": {},
     "output_type": "execute_result"
    }
   ],
   "source": [
    "# getting molecules\n",
    "mols = df_[\"canonical_smiles\"].apply(Chem.MolFromSmiles)\n",
    "# calculate descriptors\n",
    "df_[\"Molecular weight\"] = mols.apply(Descriptors.MolWt)\n",
    "df_[\"logP\"] = mols.apply(Descriptors.MolLogP)\n",
    "df_[\"H donors\"] = mols.apply(Descriptors.NumHDonors)\n",
    "df_[\"H acceptors\"] = mols.apply(Descriptors.NumHAcceptors)\n",
    "df_[[\"molecule_chembl_id\", \"Molecular weight\",\"logP\", \"H donors\", \"H acceptors\"]].head(3)"
   ]
  },
  {
   "cell_type": "markdown",
   "metadata": {},
   "source": [
    "**Convert IC50 to pIC50**"
   ]
  },
  {
   "cell_type": "code",
   "execution_count": 10,
   "metadata": {},
   "outputs": [],
   "source": [
    "def topIC50(x):\n",
    "      to_molar = x*(10**-9)\n",
    "      return -np.log10(to_molar)"
   ]
  },
  {
   "cell_type": "code",
   "execution_count": 11,
   "metadata": {},
   "outputs": [
    {
     "data": {
      "text/html": [
       "<div>\n",
       "<style scoped>\n",
       "    .dataframe tbody tr th:only-of-type {\n",
       "        vertical-align: middle;\n",
       "    }\n",
       "\n",
       "    .dataframe tbody tr th {\n",
       "        vertical-align: top;\n",
       "    }\n",
       "\n",
       "    .dataframe thead th {\n",
       "        text-align: right;\n",
       "    }\n",
       "</style>\n",
       "<table border=\"1\" class=\"dataframe\">\n",
       "  <thead>\n",
       "    <tr style=\"text-align: right;\">\n",
       "      <th></th>\n",
       "      <th>molecule_chembl_id</th>\n",
       "      <th>pIC50</th>\n",
       "    </tr>\n",
       "  </thead>\n",
       "  <tbody>\n",
       "    <tr>\n",
       "      <th>0</th>\n",
       "      <td>CHEMBL12713</td>\n",
       "      <td>7.853872</td>\n",
       "    </tr>\n",
       "    <tr>\n",
       "      <th>2</th>\n",
       "      <td>CHEMBL1108</td>\n",
       "      <td>7.492144</td>\n",
       "    </tr>\n",
       "    <tr>\n",
       "      <th>3</th>\n",
       "      <td>CHEMBL2368925</td>\n",
       "      <td>5.225483</td>\n",
       "    </tr>\n",
       "  </tbody>\n",
       "</table>\n",
       "</div>"
      ],
      "text/plain": [
       "  molecule_chembl_id     pIC50\n",
       "0        CHEMBL12713  7.853872\n",
       "2         CHEMBL1108  7.492144\n",
       "3      CHEMBL2368925  5.225483"
      ]
     },
     "execution_count": 11,
     "metadata": {},
     "output_type": "execute_result"
    }
   ],
   "source": [
    "df_[\"pIC50\"] = df_[\"standard_value\"].apply(topIC50)\n",
    "df_[[\"molecule_chembl_id\", \"pIC50\"]].head(3)"
   ]
  },
  {
   "cell_type": "markdown",
   "metadata": {},
   "source": [
    "**Chemical space analysis**"
   ]
  },
  {
   "cell_type": "markdown",
   "metadata": {},
   "source": [
    "Frequency plot of the active/inactive bioactivity classes"
   ]
  },
  {
   "cell_type": "code",
   "execution_count": 12,
   "metadata": {},
   "outputs": [],
   "source": [
    "activity_colors = {\"Inactive\": \"orange\",\n",
    "                   \"Intermediate\": \"crimson\",\n",
    "                   \"Active\": \"royalblue\"}"
   ]
  },
  {
   "cell_type": "code",
   "execution_count": 13,
   "metadata": {},
   "outputs": [
    {
     "data": {
      "image/png": "[encoded data removed]",
      "text/plain": [
       "<Figure size 432x360 with 1 Axes>"
      ]
     },
     "metadata": {
      "needs_background": "light"
     },
     "output_type": "display_data"
    }
   ],
   "source": [
    "fig, ax = plt.subplots(figsize=(6,5))\n",
    "ax.bar(x=[*activity_colors.keys()],\n",
    "       height=df_[\"Activity class\"].value_counts(),\n",
    "       color=[*activity_colors.values()],\n",
    "       linewidth=2,\n",
    "       edgecolor=[*activity_colors.values()],\n",
    "       alpha=0.40)\n",
    "ax.bar_label(ax.containers[0], label_type=\"center\", color=\"whitesmoke\", fontweight=\"bold\")\n",
    "ax.set_xlabel(\"Bioactivity class\")\n",
    "ax.set_ylabel(\"Count\")\n",
    "fig.tight_layout()\n",
    "plt.show()"
   ]
  },
  {
   "cell_type": "markdown",
   "metadata": {},
   "source": [
    "**Molecular weight versus LogP**"
   ]
  },
  {
   "cell_type": "code",
   "execution_count": 14,
   "metadata": {},
   "outputs": [
    {
     "data": {
      "image/png": "[encoded data removed]",
      "text/plain": [
       "<Figure size 432x360 with 1 Axes>"
      ]
     },
     "metadata": {
      "needs_background": "light"
     },
     "output_type": "display_data"
    }
   ],
   "source": [
    "fig, ax = plt.subplots(figsize=(6,5))\n",
    "\n",
    "for idx, mw, logp, act in df_[[\"Molecular weight\", \"logP\", \"Activity class\"]].itertuples():\n",
    "      ax.scatter(mw, logp, alpha=0.40, color=activity_colors[act],\n",
    "                 linewidth=1, edgecolors=\"k\", s=mw*0.25)\n",
    "\n",
    "ax.set_title(\"Molecular weight versus LogP\")\n",
    "ax.set_xlabel(\"Molecular weight\")\n",
    "ax.set_ylabel(\"LogP\")\n",
    "\n",
    "fig.tight_layout()\n",
    "plt.show()"
   ]
  },
  {
   "cell_type": "code",
   "execution_count": null,
   "metadata": {},
   "outputs": [],
   "source": []
  }
 ],
 "metadata": {
  "interpreter": {
   "hash": "10e1abf77ddef6b5a0d462bd0c1af8a6d69cacf984b7ff54f171d3af9bd75ca1"
  },
  "kernelspec": {
   "display_name": "Python 3.7.10 64-bit ('base': conda)",
   "language": "python",
   "name": "python3"
  },
  "language_info": {
   "codemirror_mode": {
    "name": "ipython",
    "version": 3
   },
   "file_extension": ".py",
   "mimetype": "text/x-python",
   "name": "python",
   "nbconvert_exporter": "python",
   "pygments_lexer": "ipython3",
   "version": "3.7.9"
  },
  "orig_nbformat": 4
 },
 "nbformat": 4,
 "nbformat_minor": 2
}
